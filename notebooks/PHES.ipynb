{
 "cells": [
  {
   "cell_type": "markdown",
   "metadata": {},
   "source": [
    "# Pumped Hydro-electric Energy Storage\n",
    "\n",
    "A Pumped Hydro-electric Energy Storage station (PHES) is constituted of two dams, an upper dam (UD) and a lower one (LD). When UD turbines water to LD it produces electical power. When UD pumps water from LD it consumes electrical power. The idea of such a facility is to store energy when electricity is cheap to release it when electricity is expensive. We just described here a rule based heuristic to manage a PHES. The goal of this notebook is to show how to use the Stochastic Dynamic Programming (SDP) and the Stochastic Dual Dynamic Programming (SDDP) algorithm to find how to manage optimally these two storages. The results are compared with the exact solution provided by the extensive formulation that solves the problem on a scenario tree.\n"
   ]
  },
  {
   "cell_type": "markdown",
   "metadata": {},
   "source": [
    "<img src=https://upload.wikimedia.org/wikipedia/commons/9/9a/Pumpstor_racoon_mtn.jpg>\n",
    "<center>source : https://en.wikipedia.org/wiki/Pumped-storage_hydroelectricity</center>"
   ]
  },
  {
   "cell_type": "markdown",
   "metadata": {},
   "source": [
    "## Mathematical formulation:\n",
    "\n",
    "Assume that we have a water inflow $w^t$ which arrives in UD between $t$ and $t+1$. This dam pumps a quantity $u_t$ of water when $u_t$ is positive and turbines a quantity $u_t$ of water when u_t is negative. A certain amount of water can be spilt when both dams are full and water inflow positive in UD. $s_t^1$ designates the water spillage in UD. We denote by $x_t^{1}$ and $x_t^{2}$ the state of charge of each storage at time $t$.\n",
    "\n",
    "Their dynamic are therefor: \n",
    "\n",
    "$$ x_{t+1}^1 = x_{t}^1 + w^t + u_t - s_t^1 $$\n",
    "\n",
    "$$ x_{t+1}^2 = x_{t}^2 - u_t $$\n",
    "\n",
    "Thus, we could define the state:\n",
    "$$ X_t = (x_1^t, x_2^t)$$\n",
    "\n",
    "and the control:\n",
    "$$U_t = (u_t, s_1) $$\n",
    "\n",
    "The turbines produce a quantity of electricity proportionnal to the flow turbined, and this electricity is sold into the market at a price $c_t$. We suppose that the buying and the selling costs are equal at each time step. So we pay or gain at each timestep:\n",
    "\n",
    "$$ C_t(X_t, U_t) = c_t  u_t $$\n",
    "\n",
    "We want to maximize our expected gains, so we minimize the following quantity:\n",
    "\n",
    "$$ J = \\mathbb{E} \\left[ \\sum_{i=1}^{T_f} C_t(X_t, U_t) \\right]$$ \n",
    "\n",
    "## Problem formulation: \n",
    "\n",
    "First, we need to import some modules: "
   ]
  },
  {
   "cell_type": "code",
   "execution_count": 2,
   "metadata": {
    "collapsed": false
   },
   "outputs": [],
   "source": [
    "using JuMP, Clp, StochDynamicProgramming, PyCall\n",
    "\n",
    "using PyPlot"
   ]
  },
  {
   "cell_type": "markdown",
   "metadata": {},
   "source": [
    "JuMP is the julia module for Mathematical Programming, \n",
    "  Clp the module calling a linear solver (can be replaced by CPLEX or Gurobi), \n",
    " StochDynamicProgramming is a Julia module containing SDP and SDDP algorithms, \n",
    " Gadfly is used here for plotting the results \n",
    " "
   ]
  },
  {
   "cell_type": "markdown",
   "metadata": {},
   "source": [
    "---\n",
    "### Constants definition"
   ]
  },
  {
   "cell_type": "markdown",
   "metadata": {},
   "source": [
    "Then, we define the constants of this problem: "
   ]
  },
  {
   "cell_type": "code",
   "execution_count": 3,
   "metadata": {
    "collapsed": false
   },
   "outputs": [],
   "source": [
    "# Number of timesteps (as we manage the dams over a year, it is equal to the number of weeks):\n",
    "TF = 3\n",
    "\n",
    "# Capacity of dams: \n",
    "VOLUME_MAX = 30\n",
    "VOLUME_MIN = 0\n",
    "\n",
    "# Specify the maximum flow of turbines: \n",
    "CONTROL_MAX = 20\n",
    "CONTROL_MIN = -20\n",
    "\n",
    "# Some statistics about aleas (water inflow):\n",
    "W_MAX = 15\n",
    "W_MIN = 0\n",
    "DW = 1\n",
    "\n",
    "T0 = 1\n",
    "\n",
    "# Define aleas' space:\n",
    "N_ALEAS = Int(round(Int, (W_MAX - W_MIN) / DW + 1))\n",
    "ALEAS = linspace(W_MIN, W_MAX, N_ALEAS);\n"
   ]
  },
  {
   "cell_type": "markdown",
   "metadata": {},
   "source": [
    "Now, we generate a random process to simulate the evolution of electricity prices over a year: "
   ]
  },
  {
   "cell_type": "code",
   "execution_count": 4,
   "metadata": {
    "collapsed": false
   },
   "outputs": [],
   "source": [
    "COST = 66*2.7*(1 + .5*(rand(TF-1) - .5));\n"
   ]
  },
  {
   "cell_type": "markdown",
   "metadata": {},
   "source": [
    "We could plot the evolution of prices using matplotlib: "
   ]
  },
  {
   "cell_type": "code",
   "execution_count": 6,
   "metadata": {
    "collapsed": false
   },
   "outputs": [
    {
     "data": {
      "image/png": "[encoded data removed]",
      "text/plain": [
       "PyPlot.Figure(PyObject <matplotlib.figure.Figure object at 0x7f371b10af90>)"
      ]
     },
     "metadata": {},
     "output_type": "display_data"
    }
   ],
   "source": [
    "plot(1:TF-1, COST);"
   ]
  },
  {
   "cell_type": "markdown",
   "metadata": {},
   "source": [
    "\n"
   ]
  },
  {
   "cell_type": "markdown",
   "metadata": {},
   "source": [
    "---\n",
    "### Dynamic, costs and aleas"
   ]
  },
  {
   "cell_type": "markdown",
   "metadata": {},
   "source": [
    "\n",
    "---\n",
    "\n",
    "We could now define the dynamic of our system: "
   ]
  },
  {
   "cell_type": "code",
   "execution_count": 7,
   "metadata": {
    "collapsed": false
   },
   "outputs": [
    {
     "data": {
      "text/plain": [
       "dynamic (generic function with 1 method)"
      ]
     },
     "execution_count": 7,
     "metadata": {},
     "output_type": "execute_result"
    }
   ],
   "source": [
    "# Define dynamic of the dam:\n",
    "function dynamic(t, x, u, w)\n",
    "    return [x[1] + u[1] + w[1] - u[2], x[2] - u[1]]\n",
    "end"
   ]
  },
  {
   "cell_type": "markdown",
   "metadata": {},
   "source": [
    "and the cost at time $t$:"
   ]
  },
  {
   "cell_type": "code",
   "execution_count": 9,
   "metadata": {
    "collapsed": false
   },
   "outputs": [
    {
     "data": {
      "text/plain": [
       "cost_t (generic function with 1 method)"
      ]
     },
     "execution_count": 9,
     "metadata": {},
     "output_type": "execute_result"
    }
   ],
   "source": [
    "# Define cost corresponding to each timestep:\n",
    "function cost_t(t, x, u, w)\n",
    "    return COST[t] * (u[1])\n",
    "end"
   ]
  },
  {
   "cell_type": "markdown",
   "metadata": {},
   "source": [
    "\n"
   ]
  },
  {
   "cell_type": "markdown",
   "metadata": {},
   "source": [
    "Now, we build a function to simulate the evolution of water inflow $w_t$.\n",
    "\n",
    "\n"
   ]
  },
  {
   "cell_type": "code",
   "execution_count": 10,
   "metadata": {
    "collapsed": false
   },
   "outputs": [
    {
     "data": {
      "text/plain": [
       "build_scenarios (generic function with 1 method)"
      ]
     },
     "execution_count": 10,
     "metadata": {},
     "output_type": "execute_result"
    }
   ],
   "source": [
    "\"\"\"Build admissible scenarios for water inflow over the time horizon.\"\"\"\n",
    "function build_scenarios(n_scenarios::Int64, n_stages)\n",
    "    scenarios = zeros(n_scenarios, n_stages)\n",
    "\n",
    "    for scen in 1:n_scenarios\n",
    "        scenarios[scen, :] = (W_MAX-W_MIN)*rand(n_stages)+W_MIN\n",
    "    end\n",
    "    return scenarios\n",
    "end\n"
   ]
  },
  {
   "cell_type": "markdown",
   "metadata": {},
   "source": [
    "We could test our generator with one scenario: "
   ]
  },
  {
   "cell_type": "code",
   "execution_count": 11,
   "metadata": {
    "collapsed": false,
    "scrolled": true
   },
   "outputs": [
    {
     "data": {
      "image/png": "[encoded data removed]",
      "text/plain": [
       "PyPlot.Figure(PyObject <matplotlib.figure.Figure object at 0x7f371b044950>)"
      ]
     },
     "metadata": {},
     "output_type": "display_data"
    }
   ],
   "source": [
    "scenario = build_scenarios(1, TF-1);\n",
    "\n",
    "plot(1:TF-1,scenario');"
   ]
  },
  {
   "cell_type": "markdown",
   "metadata": {},
   "source": [
    "---\n",
    "To use these scenarios in SDDP, we must use a discrete distribution for each timestep. The following function generates `n_scenarios` and returns a vector of `NoiseLaw` corresponding to the evolution of aleas distribution along the time: "
   ]
  },
  {
   "cell_type": "code",
   "execution_count": 12,
   "metadata": {
    "collapsed": false
   },
   "outputs": [
    {
     "data": {
      "text/plain": [
       "generate_probability_laws (generic function with 1 method)"
      ]
     },
     "execution_count": 12,
     "metadata": {},
     "output_type": "execute_result"
    }
   ],
   "source": [
    "\"\"\"Build probability distribution at each timestep based on N scenarios.\n",
    "\n",
    "Return a Vector{NoiseLaw}\"\"\"\n",
    "function generate_probability_laws(N_STAGES, N_SCENARIOS)\n",
    "    aleas = zeros(N_SCENARIOS, N_STAGES, 1)\n",
    "    aleas[:, :, 1] = build_scenarios(N_SCENARIOS, N_STAGES)\n",
    "\n",
    "    laws = Vector{NoiseLaw}(N_STAGES)\n",
    "\n",
    "    # uniform probabilities:\n",
    "    proba = 1/N_SCENARIOS*ones(N_SCENARIOS)\n",
    "\n",
    "    for t=1:N_STAGES\n",
    "        aleas_t = reshape(aleas[:, t, :], N_SCENARIOS, 1)'\n",
    "        laws[t] = NoiseLaw(aleas_t, proba)\n",
    "    end\n",
    "\n",
    "    return laws\n",
    "end"
   ]
  },
  {
   "cell_type": "markdown",
   "metadata": {},
   "source": [
    "---\n",
    "\n",
    "## Solving the problem with SDDP"
   ]
  },
  {
   "cell_type": "markdown",
   "metadata": {},
   "source": [
    "### SDDP model"
   ]
  },
  {
   "cell_type": "markdown",
   "metadata": {},
   "source": [
    "We generate 10 scenarios and fit a probability distribution at each timestep: "
   ]
  },
  {
   "cell_type": "code",
   "execution_count": 13,
   "metadata": {
    "collapsed": false
   },
   "outputs": [],
   "source": [
    "N_SCENARIO = 10\n",
    "aleas = generate_probability_laws(TF-1, 10);"
   ]
  },
  {
   "cell_type": "markdown",
   "metadata": {},
   "source": [
    "---\n",
    "We define the bounds over the state and the control:"
   ]
  },
  {
   "cell_type": "code",
   "execution_count": 15,
   "metadata": {
    "collapsed": false
   },
   "outputs": [],
   "source": [
    "x_bounds = [(VOLUME_MIN, VOLUME_MAX), (VOLUME_MIN, VOLUME_MAX)];\n",
    "u_bounds = [(CONTROL_MIN, CONTROL_MAX), (VOLUME_MIN, VOLUME_MAX)];"
   ]
  },
  {
   "cell_type": "markdown",
   "metadata": {},
   "source": [
    "and the initial position $X_0$:"
   ]
  },
  {
   "cell_type": "code",
   "execution_count": 16,
   "metadata": {
    "collapsed": false
   },
   "outputs": [
    {
     "data": {
      "text/plain": [
       "2-element Array{Int64,1}:\n",
       " 15\n",
       " 15"
      ]
     },
     "execution_count": 16,
     "metadata": {},
     "output_type": "execute_result"
    }
   ],
   "source": [
    "x0 = [15, 15]"
   ]
  },
  {
   "cell_type": "markdown",
   "metadata": {},
   "source": [
    "We build an instance of `LinearDynamicLinearCostSPModel` to translate our problem in SDDP: "
   ]
  },
  {
   "cell_type": "code",
   "execution_count": 17,
   "metadata": {
    "collapsed": false
   },
   "outputs": [],
   "source": [
    "model = LinearSPModel(TF, # number of timestep\n",
    "                                        u_bounds, # control bounds\n",
    "                                        x0, # initial state\n",
    "                                        cost_t, # cost function\n",
    "                                        dynamic, # dynamic function \n",
    "                                        aleas);\n",
    "set_state_bounds(model, x_bounds);\n"
   ]
  },
  {
   "cell_type": "markdown",
   "metadata": {},
   "source": [
    "---\n",
    "### SDDP parameters"
   ]
  },
  {
   "cell_type": "markdown",
   "metadata": {},
   "source": [
    "We define the parameters of the algorithm: "
   ]
  },
  {
   "cell_type": "code",
   "execution_count": 19,
   "metadata": {
    "collapsed": false
   },
   "outputs": [],
   "source": [
    "# LP solver: \n",
    "solver = ClpSolver()\n",
    "# Precision of the algorithm in percent: \n",
    "EPSILON = 0.05\n",
    "# Maximum iterations: \n",
    "MAX_ITER = 20\n",
    "\n",
    "\n",
    "params = SDDPparameters(solver, passnumber=N_SCENARIO, gap=EPSILON, max_iterations=MAX_ITER);"
   ]
  },
  {
   "cell_type": "markdown",
   "metadata": {},
   "source": [
    "---\n",
    "### SDDP solving\n",
    "\n",
    "We could launch the SDDP algorithm to our problem: "
   ]
  },
  {
   "cell_type": "code",
   "execution_count": 20,
   "metadata": {
    "collapsed": false,
    "scrolled": true
   },
   "outputs": [
    {
     "name": "stdout",
     "output_type": "stream",
     "text": [
      "Initial value function loaded into memory.\n",
      "Initialize cuts\n",
      "Pass number 1\tLower-bound: -3346.76\tTime: 0.08s\n",
      "Pass number 2\tLower-bound: -3346.76\tTime: 0.03s\n",
      "Pass number 3\tLower-bound: -3346.76\tTime: 0.03s\n",
      "Pass number 4\tLower-bound: -3346.76\tTime: 0.03s\n",
      "Pass number 5\tLower-bound: -3346.76\tTime: 0.03s\n",
      "Pass number 6\tLower-bound: -3346.76\tTime: 0.03s\n",
      "Pass number 7\tLower-bound: -3346.76\tTime: 0.04s\n",
      "Pass number 8\tLower-bound: -3346.76\tTime: 0.04s\n",
      "Pass number 9\tLower-bound: -3346.76\tTime: 0.04s\n",
      "Pass number 10\tLower-bound: -3346.76\tTime: 0.04s\n",
      "Pass number 11\tLower-bound: -3346.76\tTime: 0.04s\n",
      "Pass number 12\tLower-bound: -3346.76\tTime: 0.05s\n",
      "Pass number 13\tLower-bound: -3346.76\tTime: 0.05s\n",
      "Pass number 14\tLower-bound: -3346.76\tTime: 0.04s\n",
      "Pass number 15\tLower-bound: -3346.76\tTime: 0.04s\n",
      "Pass number 16\tLower-bound: -3346.76\tTime: 0.05s\n",
      "Pass number 17\tLower-bound: -3346.76\tTime: 0.04s\n",
      "Pass number 18\tLower-bound: -3346.76\tTime: 0.04s\n",
      "Pass number 19\tLower-bound: -3346.76\tTime: 0.05s\n",
      "Pass number 20\tLower-bound: -3346.76\tTime: 0.05s\n"
     ]
    }
   ],
   "source": [
    "V, pbs = solve_SDDP(model, params, 1);"
   ]
  },
  {
   "cell_type": "markdown",
   "metadata": {},
   "source": [
    "The algorithm returns the bellman functions (`V`) and a vector of `JuMP.Model` used to approximate these functions with linear cuts. \n",
    "\n"
   ]
  },
  {
   "cell_type": "markdown",
   "metadata": {},
   "source": [
    "---\n",
    "## Test SDDP with an example "
   ]
  },
  {
   "cell_type": "markdown",
   "metadata": {},
   "source": [
    "### Input scenario"
   ]
  },
  {
   "cell_type": "markdown",
   "metadata": {},
   "source": [
    "We suppose given a scenario of inflows: \n"
   ]
  },
  {
   "cell_type": "code",
   "execution_count": 21,
   "metadata": {
    "collapsed": false
   },
   "outputs": [
    {
     "data": {
      "text/plain": [
       "1x2 Array{Float64,2}:\n",
       " 7.0  7.0"
      ]
     },
     "execution_count": 21,
     "metadata": {},
     "output_type": "execute_result"
    }
   ],
   "source": [
    "alea_year = Array([7.0 7.0])\n"
   ]
  },
  {
   "cell_type": "markdown",
   "metadata": {},
   "source": [
    "We store this scenario as a 3D array, so it could be used to compute a forward-pass:"
   ]
  },
  {
   "cell_type": "code",
   "execution_count": 22,
   "metadata": {
    "collapsed": false
   },
   "outputs": [],
   "source": [
    "aleas_scen = zeros(2, 1, 1)\n",
    "aleas_scen[:, 1, 1] = alea_year;\n"
   ]
  },
  {
   "cell_type": "markdown",
   "metadata": {},
   "source": [
    "---\n",
    "### SDDP simulation"
   ]
  },
  {
   "cell_type": "markdown",
   "metadata": {},
   "source": [
    "We have only one scenario, so we set the forwardPassNumber equal to 1: "
   ]
  },
  {
   "cell_type": "markdown",
   "metadata": {},
   "source": [
    "Find the optimal control with a forward simulation: "
   ]
  },
  {
   "cell_type": "code",
   "execution_count": 24,
   "metadata": {
    "collapsed": false
   },
   "outputs": [],
   "source": [
    "costs, stocks = forward_simulations(model, params, pbs, aleas_scen);"
   ]
  },
  {
   "cell_type": "markdown",
   "metadata": {},
   "source": [
    "---\n",
    "### Results \n",
    "\n",
    "The cost is: "
   ]
  },
  {
   "cell_type": "code",
   "execution_count": 25,
   "metadata": {
    "collapsed": false
   },
   "outputs": [
    {
     "name": "stdout",
     "output_type": "stream",
     "text": [
      "SDDP cost: -3346.7599768405644\n"
     ]
    }
   ],
   "source": [
    "SDDP_COST = costs[1]\n",
    "println(\"SDDP cost: \", SDDP_COST)"
   ]
  },
  {
   "cell_type": "markdown",
   "metadata": {},
   "source": [
    "And the optimal solution is: "
   ]
  },
  {
   "cell_type": "code",
   "execution_count": 28,
   "metadata": {
    "collapsed": false
   },
   "outputs": [
    {
     "data": {
      "image/png": "[encoded data removed]",
      "text/plain": [
       "PyPlot.Figure(PyObject <matplotlib.figure.Figure object at 0x7f371a4e17d0>)"
      ]
     },
     "metadata": {},
     "output_type": "display_data"
    }
   ],
   "source": [
    "plot(1:TF, stocks[:, :, 1])\n",
    "plot(1:TF, stocks[:, :, 2]);"
   ]
  },
  {
   "cell_type": "markdown",
   "metadata": {},
   "source": [
    "---\n",
    "## Comparison with the deterministic solution \n",
    "To check the results given by SDDP, we solve the deterministic problem with JuMP: "
   ]
  },
  {
   "cell_type": "code",
   "execution_count": 29,
   "metadata": {
    "collapsed": false
   },
   "outputs": [
    {
     "name": "stdout",
     "output_type": "stream",
     "text": [
      "Optimal\n",
      "LP value: -3346.759976840564\n"
     ]
    }
   ],
   "source": [
    "m = Model(solver=solver)\n",
    "\n",
    "\n",
    "@variable(m,  VOLUME_MIN  <= x1[1:(TF)]  <= VOLUME_MAX)\n",
    "@variable(m,  VOLUME_MIN  <= x2[1:(TF)]  <= VOLUME_MAX)\n",
    "@variable(m,  CONTROL_MIN <= u1[1:TF-1]  <= CONTROL_MAX)\n",
    "@variable(m, VOLUME_MIN  <= u2[1:TF-1] <= VOLUME_MAX)\n",
    "\n",
    "@objective(m, Min, sum{COST[i]*(u1[i]), i = 1:TF-1})\n",
    "\n",
    "for i in 1:TF-1\n",
    "    @constraint(m, x1[i+1] - x1[i] - u1[i] + u2[i] - alea_year[i] == 0)\n",
    "    @constraint(m, x2[i+1] - x2[i] + u1[i] == 0)\n",
    "end\n",
    "\n",
    "@constraint(m, x1[1] == x0[1])\n",
    "@constraint(m, x2[1] == x0[2])\n",
    "\n",
    "status = solve(m)\n",
    "println(status)\n",
    "\n",
    "LP_COST = getobjectivevalue(m)\n",
    "println(\"LP value: \", LP_COST)"
   ]
  },
  {
   "cell_type": "markdown",
   "metadata": {},
   "source": [
    "And we plot the evolution of the stocks:"
   ]
  },
  {
   "cell_type": "code",
   "execution_count": 30,
   "metadata": {
    "collapsed": false
   },
   "outputs": [
    {
     "data": {
      "image/png": "[encoded data removed]",
      "text/plain": [
       "PyPlot.Figure(PyObject <matplotlib.figure.Figure object at 0x7f371a3d6990>)"
      ]
     },
     "metadata": {},
     "output_type": "display_data"
    },
    {
     "data": {
      "text/plain": [
       "1-element Array{Any,1}:\n",
       " PyObject <matplotlib.lines.Line2D object at 0x7f371a34cf10>"
      ]
     },
     "execution_count": 30,
     "metadata": {},
     "output_type": "execute_result"
    }
   ],
   "source": [
    "plot(getvalue(x1))\n",
    "plot(getvalue(x2))"
   ]
  },
  {
   "cell_type": "markdown",
   "metadata": {},
   "source": [
    "The solution given by the solver is more optimistic, as it assumes that the future is known in advance. \n",
    "\n",
    "If we consider the costs, we have a discrepancy between the two solutions :\n"
   ]
  },
  {
   "cell_type": "code",
   "execution_count": 31,
   "metadata": {
    "collapsed": false
   },
   "outputs": [
    {
     "data": {
      "text/plain": [
       "1.3587689408063213e-16"
      ]
     },
     "execution_count": 31,
     "metadata": {},
     "output_type": "execute_result"
    }
   ],
   "source": [
    "abs((LP_COST - SDDP_COST)/LP_COST)\n"
   ]
  },
  {
   "cell_type": "markdown",
   "metadata": {},
   "source": [
    "## Comparison with SDP \n",
    "To check the results given by SDDP, we solve the stochastic problem with SDP: "
   ]
  },
  {
   "cell_type": "markdown",
   "metadata": {},
   "source": [
    "We define constants necessary for SDP"
   ]
  },
  {
   "cell_type": "code",
   "execution_count": 32,
   "metadata": {
    "collapsed": false
   },
   "outputs": [],
   "source": [
    "N_CONTROLS = 2;\n",
    "N_STATES = 2;\n",
    "N_NOISES = 1;"
   ]
  },
  {
   "cell_type": "markdown",
   "metadata": {},
   "source": [
    "We have to define a constraint function as SDP may take into account mixed state and control constraints"
   ]
  },
  {
   "cell_type": "code",
   "execution_count": 33,
   "metadata": {
    "collapsed": false
   },
   "outputs": [
    {
     "data": {
      "text/plain": [
       "constraints (generic function with 1 method)"
      ]
     },
     "execution_count": 33,
     "metadata": {},
     "output_type": "execute_result"
    }
   ],
   "source": [
    "function constraints(t, x, u, w)\n",
    "    return true\n",
    "end\n"
   ]
  },
  {
   "cell_type": "markdown",
   "metadata": {},
   "source": [
    "We define a final cost function as well"
   ]
  },
  {
   "cell_type": "code",
   "execution_count": 34,
   "metadata": {
    "collapsed": false
   },
   "outputs": [
    {
     "data": {
      "text/plain": [
       "finalCostFunction (generic function with 1 method)"
      ]
     },
     "execution_count": 34,
     "metadata": {},
     "output_type": "execute_result"
    }
   ],
   "source": [
    "function finalCostFunction(x)\n",
    "    return 0.\n",
    "end"
   ]
  },
  {
   "cell_type": "code",
   "execution_count": 35,
   "metadata": {
    "collapsed": false
   },
   "outputs": [],
   "source": [
    "modelSDP = StochDynProgModel(TF,\n",
    "                    x_bounds, u_bounds,\n",
    "                    x0, cost_t,\n",
    "                    finalCostFunction, dynamic,\n",
    "                    constraints, aleas);"
   ]
  },
  {
   "cell_type": "markdown",
   "metadata": {},
   "source": [
    "We define some parameters needed by SDP : states and controls discretization and monte carlo sampling size"
   ]
  },
  {
   "cell_type": "code",
   "execution_count": 36,
   "metadata": {
    "collapsed": true
   },
   "outputs": [],
   "source": [
    "stateSteps = [1,1];\n",
    "controlSteps = [1,1];\n",
    "monteCarloSize = 10;"
   ]
  },
  {
   "cell_type": "markdown",
   "metadata": {},
   "source": [
    "We have to define wether the controls are chosen knowing the uncertainty realization (hazard-decision) or prior \n",
    "to know the uncertainty realization (decision-hazard). We chose here hazard decision to compare with SDDP."
   ]
  },
  {
   "cell_type": "code",
   "execution_count": 37,
   "metadata": {
    "collapsed": false
   },
   "outputs": [],
   "source": [
    "infoStruct = \"HD\";"
   ]
  },
  {
   "cell_type": "markdown",
   "metadata": {},
   "source": [
    "Let's define the parameters of the algorithm "
   ]
  },
  {
   "cell_type": "code",
   "execution_count": 38,
   "metadata": {
    "collapsed": false
   },
   "outputs": [],
   "source": [
    "paramsSDP = SDPparameters(modelSDP, stateSteps, controlSteps,  infoStruct, \"Exact\", monteCarloSize);"
   ]
  },
  {
   "cell_type": "markdown",
   "metadata": {},
   "source": [
    "We are ready to produce the value functions"
   ]
  },
  {
   "cell_type": "code",
   "execution_count": 39,
   "metadata": {
    "collapsed": false
   },
   "outputs": [
    {
     "name": "stdout",
     "output_type": "stream",
     "text": [
      "[SDP] Starting value functions computation:\n"
     ]
    }
   ],
   "source": [
    "V_sdp = solve_DP(modelSDP, paramsSDP, true);"
   ]
  },
  {
   "cell_type": "markdown",
   "metadata": {},
   "source": [
    "Thanks to these value functions we are now able to compute a forward simulation with the same scenario"
   ]
  },
  {
   "cell_type": "code",
   "execution_count": 40,
   "metadata": {
    "collapsed": false
   },
   "outputs": [],
   "source": [
    "costs_sdp, stocks_sdp, controls_sdp = sdp_forward_simulation(modelSDP, paramsSDP, aleas_scen, V_sdp, true );"
   ]
  },
  {
   "cell_type": "markdown",
   "metadata": {},
   "source": [
    "We can compare this result to the deterministic one and SDDP one"
   ]
  },
  {
   "cell_type": "code",
   "execution_count": 41,
   "metadata": {
    "collapsed": false
   },
   "outputs": [
    {
     "data": {
      "image/png": "[encoded data removed]",
      "text/plain": [
       "PyPlot.Figure(PyObject <matplotlib.figure.Figure object at 0x7f371a326810>)"
      ]
     },
     "metadata": {},
     "output_type": "display_data"
    },
    {
     "data": {
      "text/plain": [
       "1-element Array{Any,1}:\n",
       " PyObject <matplotlib.lines.Line2D object at 0x7f371a2a1550>"
      ]
     },
     "execution_count": 41,
     "metadata": {},
     "output_type": "execute_result"
    }
   ],
   "source": [
    "plot(stocks_sdp[:,:,1])\n",
    "plot(stocks_sdp[:,:,2])"
   ]
  },
  {
   "cell_type": "code",
   "execution_count": 42,
   "metadata": {
    "collapsed": false
   },
   "outputs": [
    {
     "data": {
      "text/plain": [
       "1x1 Array{Float64,2}:\n",
       " 1.35877e-16"
      ]
     },
     "execution_count": 42,
     "metadata": {},
     "output_type": "execute_result"
    }
   ],
   "source": [
    "abs((costs_sdp - SDDP_COST)/costs_sdp)"
   ]
  },
  {
   "cell_type": "code",
   "execution_count": 43,
   "metadata": {
    "collapsed": false
   },
   "outputs": [
    {
     "data": {
      "text/plain": [
       "1-element Array{Float64,1}:\n",
       " 0.0"
      ]
     },
     "execution_count": 43,
     "metadata": {},
     "output_type": "execute_result"
    }
   ],
   "source": [
    "abs((costs_sdp - LP_COST)/LP_COST)"
   ]
  },
  {
   "cell_type": "markdown",
   "metadata": {
    "collapsed": true
   },
   "source": [
    "## Comparison with the Extensive Formulation \n",
    "We now compare the results with the Extensive Formulation"
   ]
  },
  {
   "cell_type": "code",
   "execution_count": 44,
   "metadata": {
    "collapsed": false
   },
   "outputs": [
    {
     "data": {
      "text/plain": [
       "(-3346.7599768405594,[-20.0,-20.0,-20.0,9.864126983174742,-20.0,0.0,10.82494695466485,0.0,1.2527875210460735,-20.0,-20.0,5.0,-20.0,0.0,-20.0,-20.0,-20.0,0.0,0.0,0.0],:Optimal)"
      ]
     },
     "execution_count": 44,
     "metadata": {},
     "output_type": "execute_result"
    }
   ],
   "source": [
    "costs_EF, EFstatus = extensive_formulation(model,params)"
   ]
  },
  {
   "cell_type": "code",
   "execution_count": 45,
   "metadata": {
    "collapsed": false
   },
   "outputs": [
    {
     "data": {
      "text/plain": [
       "1.4946458348869553e-15"
      ]
     },
     "execution_count": 45,
     "metadata": {},
     "output_type": "execute_result"
    }
   ],
   "source": [
    "abs((costs_EF - SDDP_COST)/costs_EF)"
   ]
  },
  {
   "cell_type": "code",
   "execution_count": 46,
   "metadata": {
    "collapsed": false
   },
   "outputs": [
    {
     "data": {
      "text/plain": [
       "1-element Array{Float64,1}:\n",
       " 1.35877e-15"
      ]
     },
     "execution_count": 46,
     "metadata": {},
     "output_type": "execute_result"
    }
   ],
   "source": [
    "abs((costs_EF - costs_sdp)/costs_EF)"
   ]
  }
 ],
 "metadata": {
  "kernelspec": {
   "display_name": "Julia 0.4.6",
   "language": "julia",
   "name": "julia-0.4"
  },
  "language_info": {
   "file_extension": ".jl",
   "mimetype": "application/julia",
   "name": "julia",
   "version": "0.4.6"
  }
 },
 "nbformat": 4,
 "nbformat_minor": 0
}
